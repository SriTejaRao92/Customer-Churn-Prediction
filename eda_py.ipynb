{
  "nbformat": 4,
  "nbformat_minor": 0,
  "metadata": {
    "colab": {
      "provenance": [],
      "authorship_tag": "ABX9TyPxXVgA6KfMyNV6HH9QIxGg",
      "include_colab_link": true
    },
    "kernelspec": {
      "name": "python3",
      "display_name": "Python 3"
    },
    "language_info": {
      "name": "python"
    }
  },
  "cells": [
    {
      "cell_type": "markdown",
      "metadata": {
        "id": "view-in-github",
        "colab_type": "text"
      },
      "source": [
        "<a href=\"https://colab.research.google.com/github/SriTejaRao92/Customer-Churn-Prediction/blob/main/eda_py.ipynb\" target=\"_parent\"><img src=\"https://colab.research.google.com/assets/colab-badge.svg\" alt=\"Open In Colab\"/></a>"
      ]
    },
    {
      "cell_type": "code",
      "source": [
        "import pandas as pd\n",
        "import matplotlib.pyplot as plt\n",
        "import seaborn as sns\n",
        "import os\n",
        "\n",
        "def perform_eda(data):\n",
        "    \"\"\"\n",
        "    Perform exploratory data analysis and generate plots.\n",
        "    \"\"\"\n",
        "    # Churn count plot\n",
        "    plt.figure(figsize=(6, 4))\n",
        "    sns.countplot(data['Churn'])\n",
        "    plt.title('Churn Distribution')\n",
        "    plt.show()\n",
        "\n",
        "    # Correlation heatmap\n",
        "    plt.figure(figsize=(12, 8))\n",
        "    sns.heatmap(data.corr(), annot=True, fmt='.2f')\n",
        "    plt.title('Correlation Heatmap')\n",
        "    plt.show()\n",
        "\n",
        "# Load preprocessed data\n",
        "file_path = 'preprocessed_data.csv'\n",
        "if os.path.exists(file_path):\n",
        "    data = pd.read_csv(file_path)\n",
        "    perform_eda(data)\n",
        "else:\n",
        "    print(f\"Error: The file '{file_path}' does not exist.\")\n",
        "\n"
      ],
      "metadata": {
        "colab": {
          "base_uri": "https://localhost:8080/"
        },
        "collapsed": true,
        "id": "HLk0VYuvAeaB",
        "outputId": "1026b996-b323-484b-c5df-6eb37123fc06"
      },
      "execution_count": 2,
      "outputs": [
        {
          "output_type": "stream",
          "name": "stdout",
          "text": [
            "Error: The file 'preprocessed_data.csv' does not exist.\n"
          ]
        }
      ]
    }
  ]
}